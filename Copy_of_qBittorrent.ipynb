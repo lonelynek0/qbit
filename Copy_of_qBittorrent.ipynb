{
  "cells": [
    {
      "cell_type": "markdown",
      "metadata": {
        "id": "view-in-github",
        "colab_type": "text"
      },
      "source": [
        "<a href=\"https://colab.research.google.com/github/lonelynek0/qbit/blob/main/Copy_of_qBittorrent.ipynb\" target=\"_parent\"><img src=\"https://colab.research.google.com/assets/colab-badge.svg\" alt=\"Open In Colab\"/></a>"
      ]
    },
    {
      "cell_type": "code",
      "source": [
        "!pwd"
      ],
      "metadata": {
        "colab": {
          "base_uri": "https://localhost:8080/"
        },
        "id": "72LC87cGiDQe",
        "outputId": "9cc7b243-a45e-47e7-c270-2c18b6b5daf8"
      },
      "execution_count": 3,
      "outputs": [
        {
          "output_type": "stream",
          "name": "stdout",
          "text": [
            "/content\n"
          ]
        }
      ]
    },
    {
      "cell_type": "code",
      "execution_count": null,
      "metadata": {
        "cellView": "form",
        "id": "FY2eVxSEMm6l"
      },
      "outputs": [],
      "source": [
        "#@title **Connect GDrive**\n",
        "from google.colab import drive\n",
        "drive.mount('/content/drive')"
      ]
    },
    {
      "cell_type": "code",
      "execution_count": null,
      "metadata": {
        "cellView": "form",
        "id": "CpW7Op5-56lJ"
      },
      "outputs": [],
      "source": [
        "#@title **1 - INITIATION**\n",
        "\n",
        "from google.colab import drive, output\n",
        "import os\n",
        "\n",
        "print('----- Mount Drive -----')\n",
        "drive._mount('/content/drive')\n",
        "print('----- Installing Qbittorrent -----')\n",
        "if not os.path.isfile('/usr/bin/qbittorrent-nox'):\n",
        "    !apt install qbittorrent-nox\n",
        "output.clear()\n",
        "print('----- Done -----')"
      ]
    },
    {
      "cell_type": "code",
      "execution_count": null,
      "metadata": {
        "cellView": "form",
        "colab": {
          "base_uri": "https://localhost:8080/",
          "height": 52
        },
        "id": "cFf4qzDh_YAM",
        "outputId": "19fc334a-55cf-4969-8180-3b425c9c13f6"
      },
      "outputs": [
        {
          "output_type": "stream",
          "name": "stdout",
          "text": [
            "----- Open this link to open QBittorrent -----\n",
            "https://ogpg8gvpjwn-496ff2e9c6d22116-4444-colab.googleusercontent.com/\n"
          ]
        }
      ],
      "source": [
        "#@title **2 - START QBITTORENT**\n",
        "SAVE_PATH = \"/content/drive/Shareddrives/Drachma/Anime\" #@param {type:\"string\"}\n",
        "#@markdown > *Note: Don't terminate the colab right after you're done torrenting. It takes time to write to GDrive*\n",
        "\n",
        "if not os.path.isdir(SAVE_PATH):\n",
        "    print('Save path invalid')\n",
        "else:\n",
        "    !mkdir -p -m 666 /{content/qBittorrent,root/{.qBittorrent_temp,.config/qBittorrent}} && curl -s https://pastebin.com/raw/zn6HBgHz -o /root/.config/qBittorrent/qBittorrent.conf\n",
        "    with open('/root/.config/qBittorrent/qBittorrent.conf', 'r') as f:\n",
        "        content = f.read().replace('%SavePath%', SAVE_PATH)\n",
        "    with open('/root/.config/qBittorrent/qBittorrent.conf', 'w') as f:\n",
        "        f.write(content)\n",
        "    !qbittorrent-nox -d --webui-port=4444\n",
        "    print('----- Open this link to open QBittorrent -----')\n",
        "    print(output.eval_js(\"google.colab.kernel.proxyPort(4444)\"))"
      ]
    },
    {
      "cell_type": "code",
      "execution_count": null,
      "metadata": {
        "cellView": "form",
        "id": "LtyKecMIDL0c"
      },
      "outputs": [],
      "source": [
        "#@title **3 - INFINITY RUN**\n",
        "while True:pass\n"
      ]
    },
    {
      "cell_type": "code",
      "execution_count": null,
      "metadata": {
        "colab": {
          "base_uri": "https://localhost:8080/"
        },
        "id": "0lxyDGZeRKdY",
        "outputId": "f874887b-3d40-43e6-fabd-49f7d88cb1b4"
      },
      "outputs": [
        {
          "name": "stdout",
          "output_type": "stream",
          "text": [
            "E: Package 'python-software-properties' has no installation candidate\n",
            "Selecting previously unselected package google-drive-ocamlfuse.\n",
            "(Reading database ... 155127 files and directories currently installed.)\n",
            "Preparing to unpack .../google-drive-ocamlfuse_0.7.27-0ubuntu1~ubuntu18.04.1_amd64.deb ...\n",
            "Unpacking google-drive-ocamlfuse (0.7.27-0ubuntu1~ubuntu18.04.1) ...\n",
            "Setting up google-drive-ocamlfuse (0.7.27-0ubuntu1~ubuntu18.04.1) ...\n",
            "Processing triggers for man-db (2.8.3-2ubuntu0.1) ...\n",
            "Please, open the following URL in a web browser: https://accounts.google.com/o/oauth2/auth?client_id=32555940559.apps.googleusercontent.com&redirect_uri=urn%3Aietf%3Awg%3Aoauth%3A2.0%3Aoob&scope=https%3A%2F%2Fwww.googleapis.com%2Fauth%2Fdrive&response_type=code&access_type=offline&approval_prompt=force\n",
            "··········\n",
            "Please, open the following URL in a web browser: https://accounts.google.com/o/oauth2/auth?client_id=32555940559.apps.googleusercontent.com&redirect_uri=urn%3Aietf%3Awg%3Aoauth%3A2.0%3Aoob&scope=https%3A%2F%2Fwww.googleapis.com%2Fauth%2Fdrive&response_type=code&access_type=offline&approval_prompt=force\n",
            "Please enter the verification code: Access token retrieved correctly.\n"
          ]
        }
      ],
      "source": [
        "!apt-get install -y -qq software-properties-common python-software-properties module-init-tools\n",
        "!add-apt-repository -y ppa:alessandro-strada/ppa 2>&1 > /dev/null\n",
        "!apt-get update -qq 2>&1 > /dev/null\n",
        "!apt-get -y install -qq google-drive-ocamlfuse fuse\n",
        "from google.colab import auth\n",
        "auth.authenticate_user()\n",
        "from oauth2client.client import GoogleCredentials\n",
        "creds = GoogleCredentials.get_application_default()\n",
        "import getpass\n",
        "!google-drive-ocamlfuse -headless -id={creds.client_id} -secret={creds.client_secret} < /dev/null 2>&1 | grep URL\n",
        "vcode = getpass.getpass()\n",
        "!echo {vcode} | google-drive-ocamlfuse -headless -id={creds.client_id} -secret={creds.client_secret}\n",
        "!mkdir -p /drive2\n",
        "!google-drive-ocamlfuse /drive2"
      ]
    },
    {
      "cell_type": "code",
      "execution_count": null,
      "metadata": {
        "colab": {
          "background_save": true,
          "base_uri": "https://localhost:8080/"
        },
        "id": "--wrXAb3RiSB",
        "outputId": "fbcca95c-b3d2-4096-836b-95aae4e7e3d4"
      },
      "outputs": [
        {
          "name": "stdout",
          "output_type": "stream",
          "text": [
            "'/content/drive/Shareddrives/Drachma/TV Shows/Arrow/Arrow Season 1 Complete 720p BluRay x264 [i_c]' -> '/content/drive/Shareddrives/Drachma/Movies and TV Shows/Arrow/Arrow Season 1 Complete 720p BluRay x264 [i_c]'\n",
            "'/content/drive/Shareddrives/Drachma/TV Shows/Arrow/Arrow Season 1 Complete 720p BluRay x264 [i_c]/Arrow S01E01 Pilot.mkv' -> '/content/drive/Shareddrives/Drachma/Movies and TV Shows/Arrow/Arrow Season 1 Complete 720p BluRay x264 [i_c]/Arrow S01E01 Pilot.mkv'\n",
            "'/content/drive/Shareddrives/Drachma/TV Shows/Arrow/Arrow Season 1 Complete 720p BluRay x264 [i_c]/Arrow S01E02 Honor Thy Father.mkv' -> '/content/drive/Shareddrives/Drachma/Movies and TV Shows/Arrow/Arrow Season 1 Complete 720p BluRay x264 [i_c]/Arrow S01E02 Honor Thy Father.mkv'\n",
            "'/content/drive/Shareddrives/Drachma/TV Shows/Arrow/Arrow Season 1 Complete 720p BluRay x264 [i_c]/Arrow S01E03 Lone Gunmen.mkv' -> '/content/drive/Shareddrives/Drachma/Movies and TV Shows/Arrow/Arrow Season 1 Complete 720p BluRay x264 [i_c]/Arrow S01E03 Lone Gunmen.mkv'\n",
            "'/content/drive/Shareddrives/Drachma/TV Shows/Arrow/Arrow Season 1 Complete 720p BluRay x264 [i_c]/Arrow S01E04 An Innocent Man.mkv' -> '/content/drive/Shareddrives/Drachma/Movies and TV Shows/Arrow/Arrow Season 1 Complete 720p BluRay x264 [i_c]/Arrow S01E04 An Innocent Man.mkv'\n",
            "'/content/drive/Shareddrives/Drachma/TV Shows/Arrow/Arrow Season 1 Complete 720p BluRay x264 [i_c]/Arrow S01E05 Damaged.mkv' -> '/content/drive/Shareddrives/Drachma/Movies and TV Shows/Arrow/Arrow Season 1 Complete 720p BluRay x264 [i_c]/Arrow S01E05 Damaged.mkv'\n",
            "'/content/drive/Shareddrives/Drachma/TV Shows/Arrow/Arrow Season 1 Complete 720p BluRay x264 [i_c]/Arrow S01E06 Legacies.mkv' -> '/content/drive/Shareddrives/Drachma/Movies and TV Shows/Arrow/Arrow Season 1 Complete 720p BluRay x264 [i_c]/Arrow S01E06 Legacies.mkv'\n",
            "'/content/drive/Shareddrives/Drachma/TV Shows/Arrow/Arrow Season 1 Complete 720p BluRay x264 [i_c]/Arrow S01E07 Muse of Fire.mkv' -> '/content/drive/Shareddrives/Drachma/Movies and TV Shows/Arrow/Arrow Season 1 Complete 720p BluRay x264 [i_c]/Arrow S01E07 Muse of Fire.mkv'\n",
            "'/content/drive/Shareddrives/Drachma/TV Shows/Arrow/Arrow Season 1 Complete 720p BluRay x264 [i_c]/Arrow S01E08 Vendetta.mkv' -> '/content/drive/Shareddrives/Drachma/Movies and TV Shows/Arrow/Arrow Season 1 Complete 720p BluRay x264 [i_c]/Arrow S01E08 Vendetta.mkv'\n",
            "'/content/drive/Shareddrives/Drachma/TV Shows/Arrow/Arrow Season 1 Complete 720p BluRay x264 [i_c]/Arrow S01E09 Year'\\''s End.mkv' -> '/content/drive/Shareddrives/Drachma/Movies and TV Shows/Arrow/Arrow Season 1 Complete 720p BluRay x264 [i_c]/Arrow S01E09 Year'\\''s End.mkv'\n",
            "'/content/drive/Shareddrives/Drachma/TV Shows/Arrow/Arrow Season 1 Complete 720p BluRay x264 [i_c]/Arrow S01E10 Burned.mkv' -> '/content/drive/Shareddrives/Drachma/Movies and TV Shows/Arrow/Arrow Season 1 Complete 720p BluRay x264 [i_c]/Arrow S01E10 Burned.mkv'\n",
            "'/content/drive/Shareddrives/Drachma/TV Shows/Arrow/Arrow Season 1 Complete 720p BluRay x264 [i_c]/Arrow S01E11 Trust But Verify.mkv' -> '/content/drive/Shareddrives/Drachma/Movies and TV Shows/Arrow/Arrow Season 1 Complete 720p BluRay x264 [i_c]/Arrow S01E11 Trust But Verify.mkv'\n",
            "'/content/drive/Shareddrives/Drachma/TV Shows/Arrow/Arrow Season 1 Complete 720p BluRay x264 [i_c]/Arrow S01E12 Vertigo.mkv' -> '/content/drive/Shareddrives/Drachma/Movies and TV Shows/Arrow/Arrow Season 1 Complete 720p BluRay x264 [i_c]/Arrow S01E12 Vertigo.mkv'\n",
            "'/content/drive/Shareddrives/Drachma/TV Shows/Arrow/Arrow Season 1 Complete 720p BluRay x264 [i_c]/Arrow S01E13 Betrayal.mkv' -> '/content/drive/Shareddrives/Drachma/Movies and TV Shows/Arrow/Arrow Season 1 Complete 720p BluRay x264 [i_c]/Arrow S01E13 Betrayal.mkv'\n",
            "'/content/drive/Shareddrives/Drachma/TV Shows/Arrow/Arrow Season 1 Complete 720p BluRay x264 [i_c]/Arrow S01E14 The Odyssey.mkv' -> '/content/drive/Shareddrives/Drachma/Movies and TV Shows/Arrow/Arrow Season 1 Complete 720p BluRay x264 [i_c]/Arrow S01E14 The Odyssey.mkv'\n",
            "'/content/drive/Shareddrives/Drachma/TV Shows/Arrow/Arrow Season 1 Complete 720p BluRay x264 [i_c]/Arrow S01E15 Dodger.mkv' -> '/content/drive/Shareddrives/Drachma/Movies and TV Shows/Arrow/Arrow Season 1 Complete 720p BluRay x264 [i_c]/Arrow S01E15 Dodger.mkv'\n",
            "'/content/drive/Shareddrives/Drachma/TV Shows/Arrow/Arrow Season 1 Complete 720p BluRay x264 [i_c]/Arrow S01E16 Dead to Rights.mkv' -> '/content/drive/Shareddrives/Drachma/Movies and TV Shows/Arrow/Arrow Season 1 Complete 720p BluRay x264 [i_c]/Arrow S01E16 Dead to Rights.mkv'\n",
            "'/content/drive/Shareddrives/Drachma/TV Shows/Arrow/Arrow Season 1 Complete 720p BluRay x264 [i_c]/Arrow S01E17 The Huntress Returns.mkv' -> '/content/drive/Shareddrives/Drachma/Movies and TV Shows/Arrow/Arrow Season 1 Complete 720p BluRay x264 [i_c]/Arrow S01E17 The Huntress Returns.mkv'\n",
            "'/content/drive/Shareddrives/Drachma/TV Shows/Arrow/Arrow Season 1 Complete 720p BluRay x264 [i_c]/Arrow S01E18 Salvation.mkv' -> '/content/drive/Shareddrives/Drachma/Movies and TV Shows/Arrow/Arrow Season 1 Complete 720p BluRay x264 [i_c]/Arrow S01E18 Salvation.mkv'\n",
            "'/content/drive/Shareddrives/Drachma/TV Shows/Arrow/Arrow Season 1 Complete 720p BluRay x264 [i_c]/Arrow S01E19 Unfinished Business.mkv' -> '/content/drive/Shareddrives/Drachma/Movies and TV Shows/Arrow/Arrow Season 1 Complete 720p BluRay x264 [i_c]/Arrow S01E19 Unfinished Business.mkv'\n",
            "'/content/drive/Shareddrives/Drachma/TV Shows/Arrow/Arrow Season 1 Complete 720p BluRay x264 [i_c]/Arrow S01E20 Home Invasion.mkv' -> '/content/drive/Shareddrives/Drachma/Movies and TV Shows/Arrow/Arrow Season 1 Complete 720p BluRay x264 [i_c]/Arrow S01E20 Home Invasion.mkv'\n",
            "'/content/drive/Shareddrives/Drachma/TV Shows/Arrow/Arrow Season 1 Complete 720p BluRay x264 [i_c]/Arrow S01E21 The Undertaking.mkv' -> '/content/drive/Shareddrives/Drachma/Movies and TV Shows/Arrow/Arrow Season 1 Complete 720p BluRay x264 [i_c]/Arrow S01E21 The Undertaking.mkv'\n",
            "'/content/drive/Shareddrives/Drachma/TV Shows/Arrow/Arrow Season 1 Complete 720p BluRay x264 [i_c]/Arrow S01E22 Darkness on the Edge of Town.mkv' -> '/content/drive/Shareddrives/Drachma/Movies and TV Shows/Arrow/Arrow Season 1 Complete 720p BluRay x264 [i_c]/Arrow S01E22 Darkness on the Edge of Town.mkv'\n",
            "'/content/drive/Shareddrives/Drachma/TV Shows/Arrow/Arrow Season 1 Complete 720p BluRay x264 [i_c]/Arrow S01E23 Sacrifice.mkv' -> '/content/drive/Shareddrives/Drachma/Movies and TV Shows/Arrow/Arrow Season 1 Complete 720p BluRay x264 [i_c]/Arrow S01E23 Sacrifice.mkv'\n"
          ]
        }
      ],
      "source": [
        "!sudo cp -v -r \"/content/drive/Shareddrives/Drachma/TV Shows/Arrow\" \"/content/drive/Shareddrives/Drachma/Movies and TV Shows\""
      ]
    }
  ],
  "metadata": {
    "colab": {
      "collapsed_sections": [],
      "name": "Copy of qBittorrent.ipynb",
      "provenance": [],
      "include_colab_link": true
    },
    "kernelspec": {
      "display_name": "Python 3",
      "name": "python3"
    },
    "language_info": {
      "name": "python"
    }
  },
  "nbformat": 4,
  "nbformat_minor": 0
}